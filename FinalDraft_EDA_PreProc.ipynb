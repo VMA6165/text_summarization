{
 "cells": [
  {
   "cell_type": "markdown",
   "metadata": {},
   "source": [
    "# Exploratory Data Analysis (EDA) and Data Pre-Processing\n",
    "## DSBA 6165 Group Project\n",
    "## Divam Arora, Connor Moore, Hemanth Velan"
   ]
  },
  {
   "cell_type": "markdown",
   "metadata": {},
   "source": [
    "### Sources:\n",
    "- https://huggingface.co/datasets/gigaword\n",
    "- https://www.statology.org/seaborn-log-scale/\n",
    "- https://huggingface.co/docs/datasets/process#export\n",
    "- https://huggingface.co/docs/datasets/v1.11.0/splits.html\n",
    "- https://seaborn.pydata.org/generated/seaborn.histplot.html\n",
    "- https://www.geeksforgeeks.org/string-punctuation-in-python/\n",
    "- https://www.geeksforgeeks.org/removing-stop-words-nltk-python/\n",
    "- https://www.geeksforgeeks.org/how-to-set-a-seaborn-chart-figure-size/\n",
    "- https://pandas.pydata.org/docs/reference/api/pandas.DataFrame.replace.html\n",
    "- https://www.analyticsvidhya.com/blog/2021/06/pre-processing-of-text-data-in-nlp/\n",
    "- https://neptune.ai/blog/exploratory-data-analysis-natural-language-processing-tools\n",
    "- https://stackoverflow.com/questions/42135409/removing-a-character-from-entire-data-frame\n",
    "- https://www.analyticsvidhya.com/blog/2019/07/how-get-started-nlp-6-unique-ways-perform-tokenization/\n",
    "- https://stackoverflow.com/questions/28986489/how-to-replace-text-in-a-string-column-of-a-pandas-dataframe\n",
    "- https://stackoverflow.com/questions/41425945/python-pandas-error-missing-unterminated-subpattern-at-position-2\n",
    "- https://aparnamishra144.medium.com/how-to-change-string-data-or-text-data-of-a-column-to-lowercase-in-pandas-248a8ce4ae01\n",
    "- https://colab.research.google.com/github/glopasso/capstone/blob/master/extractive/notebooks/02-exploratory-data-analysis.ipynb#scrollTo=aulxLyyFFkei\n",
    "\n",
    "\n"
   ]
  },
  {
   "cell_type": "code",
   "execution_count": 42,
   "metadata": {},
   "outputs": [
    {
     "name": "stderr",
     "output_type": "stream",
     "text": [
      "[nltk_data] Downloading package stopwords to\n",
      "[nltk_data]     C:\\Users\\cmoor197\\AppData\\Roaming\\nltk_data...\n",
      "[nltk_data]   Package stopwords is already up-to-date!\n",
      "[nltk_data] Downloading package punkt to\n",
      "[nltk_data]     C:\\Users\\cmoor197\\AppData\\Roaming\\nltk_data...\n",
      "[nltk_data]   Package punkt is already up-to-date!\n",
      "[nltk_data] Downloading package wordnet to\n",
      "[nltk_data]     C:\\Users\\cmoor197\\AppData\\Roaming\\nltk_data...\n"
     ]
    },
    {
     "data": {
      "text/plain": [
       "True"
      ]
     },
     "execution_count": 42,
     "metadata": {},
     "output_type": "execute_result"
    }
   ],
   "source": [
    "# import needed packages\n",
    "import datasets as ds\n",
    "import pandas as pd\n",
    "import nltk\n",
    "from matplotlib import pyplot as plt\n",
    "import seaborn as sns\n",
    "import re\n",
    "import string\n",
    "import numpy as np\n",
    "from collections import Counter\n",
    "from nltk.corpus import stopwords\n",
    "from nltk.stem import WordNetLemmatizer\n",
    "from nltk.tokenize import word_tokenize\n",
    "from sklearn.feature_extraction.text import CountVectorizer\n",
    "\n",
    "# download stop word package from nltk library\n",
    "nltk.download('stopwords')\n",
    "nltk.download('punkt')\n",
    "nltk.download('wordnet')"
   ]
  },
  {
   "cell_type": "markdown",
   "metadata": {},
   "source": [
    "## Load dataset\n",
    "For our project, we will be utilizing the Gigaword dataset from Hugging Face's dataset library, sourced here - https://huggingface.co/datasets/gigaword\n",
    "\n",
    "This dataset is a series of document-summary pairs, all in string format. The dataset is pre-split into train, validation, and test sets. The train set has 3,803,957 rows, the validation set has 189,651 rows, and the test set has 1,951 rows."
   ]
  },
  {
   "cell_type": "code",
   "execution_count": 2,
   "metadata": {},
   "outputs": [],
   "source": [
    "# https://huggingface.co/datasets/gigaword\n",
    "# https://huggingface.co/docs/datasets/v1.11.0/splits.html\n",
    "\n",
    "# download gigaword dataset from Hugging Face dataset library\n",
    "train, test, validation = ds.load_dataset(\"gigaword\", split=[\"train\", \"test\", \"validation\"])"
   ]
  },
  {
   "cell_type": "code",
   "execution_count": 3,
   "metadata": {},
   "outputs": [
    {
     "name": "stdout",
     "output_type": "stream",
     "text": [
      "Dataset({\n",
      "    features: ['document', 'summary'],\n",
      "    num_rows: 3803957\n",
      "})\n",
      "Dataset({\n",
      "    features: ['document', 'summary'],\n",
      "    num_rows: 1951\n",
      "})\n",
      "Dataset({\n",
      "    features: ['document', 'summary'],\n",
      "    num_rows: 189651\n",
      "})\n"
     ]
    }
   ],
   "source": [
    "# display the dataset splits\n",
    "print(train)\n",
    "print(test)\n",
    "print(validation)"
   ]
  },
  {
   "cell_type": "markdown",
   "metadata": {},
   "source": [
    "Looking at the output above, we can confirm that the dataset downloaded successfully, and double check the number of rows for each split. Each data subset consists of the same two features - \n",
    "- \"document\" - a news article headline combined with its first sentence to serve as input\n",
    "- \"summary\" - a summary statement based on the content of the document input\n",
    "\n",
    "Next we will export the splits to pandas dataframes to conduct our exploratory data analysis and data pre-processing."
   ]
  },
  {
   "cell_type": "code",
   "execution_count": 105,
   "metadata": {},
   "outputs": [
    {
     "name": "stdout",
     "output_type": "stream",
     "text": [
      "Train df exported.\n",
      "Test df exported.\n",
      "Validation df exported.\n"
     ]
    }
   ],
   "source": [
    "# https://huggingface.co/docs/datasets/process#export\n",
    "\n",
    "# export the training dataset to a pandas dataframe and display\n",
    "df_train = train.to_pandas()\n",
    "print(\"Train df exported.\")\n",
    "\n",
    "# export the test dataset to a pandas dataframe\n",
    "df_test = test.to_pandas()\n",
    "print(\"Test df exported.\")\n",
    "\n",
    "# export the validation dataset to a pandas dataframe\n",
    "df_val = validation.to_pandas()\n",
    "print(\"Validation df exported.\")"
   ]
  },
  {
   "cell_type": "code",
   "execution_count": 5,
   "metadata": {},
   "outputs": [
    {
     "data": {
      "text/html": [
       "<div>\n",
       "<style scoped>\n",
       "    .dataframe tbody tr th:only-of-type {\n",
       "        vertical-align: middle;\n",
       "    }\n",
       "\n",
       "    .dataframe tbody tr th {\n",
       "        vertical-align: top;\n",
       "    }\n",
       "\n",
       "    .dataframe thead th {\n",
       "        text-align: right;\n",
       "    }\n",
       "</style>\n",
       "<table border=\"1\" class=\"dataframe\">\n",
       "  <thead>\n",
       "    <tr style=\"text-align: right;\">\n",
       "      <th></th>\n",
       "      <th>document</th>\n",
       "      <th>summary</th>\n",
       "    </tr>\n",
       "  </thead>\n",
       "  <tbody>\n",
       "    <tr>\n",
       "      <th>0</th>\n",
       "      <td>australia 's current account deficit shrunk by...</td>\n",
       "      <td>australian current account deficit narrows sha...</td>\n",
       "    </tr>\n",
       "    <tr>\n",
       "      <th>1</th>\n",
       "      <td>at least two people were killed in a suspected...</td>\n",
       "      <td>at least two dead in southern philippines blast</td>\n",
       "    </tr>\n",
       "    <tr>\n",
       "      <th>2</th>\n",
       "      <td>australian shares closed down #.# percent mond...</td>\n",
       "      <td>australian stocks close down #.# percent</td>\n",
       "    </tr>\n",
       "    <tr>\n",
       "      <th>3</th>\n",
       "      <td>south korea 's nuclear envoy kim sook urged no...</td>\n",
       "      <td>envoy urges north korea to restart nuclear dis...</td>\n",
       "    </tr>\n",
       "    <tr>\n",
       "      <th>4</th>\n",
       "      <td>south korea on monday announced sweeping tax r...</td>\n",
       "      <td>skorea announces tax cuts to stimulate economy</td>\n",
       "    </tr>\n",
       "    <tr>\n",
       "      <th>...</th>\n",
       "      <td>...</td>\n",
       "      <td>...</td>\n",
       "    </tr>\n",
       "    <tr>\n",
       "      <th>3803952</th>\n",
       "      <td>the state duma , the lower house of the russia...</td>\n",
       "      <td>duma urges yeltsin to reconsider troop pullout...</td>\n",
       "    </tr>\n",
       "    <tr>\n",
       "      <th>3803953</th>\n",
       "      <td>the u.s. justice department today rejected a t...</td>\n",
       "      <td>us justice department rejects special probe of</td>\n",
       "    </tr>\n",
       "    <tr>\n",
       "      <th>3803954</th>\n",
       "      <td>the united nations is calling for ### million ...</td>\n",
       "      <td>un seeks fund for programs in former yugoslavia</td>\n",
       "    </tr>\n",
       "    <tr>\n",
       "      <th>3803955</th>\n",
       "      <td>president jacques chirac today won a present o...</td>\n",
       "      <td>chirac gets birthday gift of ##th century african</td>\n",
       "    </tr>\n",
       "    <tr>\n",
       "      <th>3803956</th>\n",
       "      <td>the united nations tribunal for war crime in f...</td>\n",
       "      <td>war crime tribunal passes #st sentence</td>\n",
       "    </tr>\n",
       "  </tbody>\n",
       "</table>\n",
       "<p>3803957 rows × 2 columns</p>\n",
       "</div>"
      ],
      "text/plain": [
       "                                                  document  \\\n",
       "0        australia 's current account deficit shrunk by...   \n",
       "1        at least two people were killed in a suspected...   \n",
       "2        australian shares closed down #.# percent mond...   \n",
       "3        south korea 's nuclear envoy kim sook urged no...   \n",
       "4        south korea on monday announced sweeping tax r...   \n",
       "...                                                    ...   \n",
       "3803952  the state duma , the lower house of the russia...   \n",
       "3803953  the u.s. justice department today rejected a t...   \n",
       "3803954  the united nations is calling for ### million ...   \n",
       "3803955  president jacques chirac today won a present o...   \n",
       "3803956  the united nations tribunal for war crime in f...   \n",
       "\n",
       "                                                   summary  \n",
       "0        australian current account deficit narrows sha...  \n",
       "1          at least two dead in southern philippines blast  \n",
       "2                 australian stocks close down #.# percent  \n",
       "3        envoy urges north korea to restart nuclear dis...  \n",
       "4           skorea announces tax cuts to stimulate economy  \n",
       "...                                                    ...  \n",
       "3803952  duma urges yeltsin to reconsider troop pullout...  \n",
       "3803953     us justice department rejects special probe of  \n",
       "3803954    un seeks fund for programs in former yugoslavia  \n",
       "3803955  chirac gets birthday gift of ##th century african  \n",
       "3803956             war crime tribunal passes #st sentence  \n",
       "\n",
       "[3803957 rows x 2 columns]"
      ]
     },
     "execution_count": 5,
     "metadata": {},
     "output_type": "execute_result"
    }
   ],
   "source": [
    "# display the new training dataframe\n",
    "df_train"
   ]
  },
  {
   "cell_type": "markdown",
   "metadata": {},
   "source": [
    "Like the Hugging Face dataset, the dataframe contains two columns - one for input document, and one for the resulting summary."
   ]
  },
  {
   "cell_type": "code",
   "execution_count": 17,
   "metadata": {},
   "outputs": [
    {
     "name": "stdout",
     "output_type": "stream",
     "text": [
      "                                                  document  \\\n",
      "0        australia 's current account deficit shrunk by...   \n",
      "1        at least two people were killed in a suspected...   \n",
      "2        australian shares closed down #.# percent mond...   \n",
      "3        south korea 's nuclear envoy kim sook urged no...   \n",
      "4        south korea on monday announced sweeping tax r...   \n",
      "...                                                    ...   \n",
      "3995554  thailand 's traffic death toll soared to ### o...   \n",
      "3995555  at least seven people were killed on the new y...   \n",
      "3995556  survey showed thailand 's suicide rate decline...   \n",
      "3995557  the nepali government has announced the year #...   \n",
      "3995558  thai national center for genetic engineering a...   \n",
      "\n",
      "                                                   summary  \n",
      "0        australian current account deficit narrows sha...  \n",
      "1          at least two dead in southern philippines blast  \n",
      "2                 australian stocks close down #.# percent  \n",
      "3        envoy urges north korea to restart nuclear dis...  \n",
      "4           skorea announces tax cuts to stimulate economy  \n",
      "...                                                    ...  \n",
      "3995554  thailand 's traffic death toll during holiday ...  \n",
      "3995555          # killed in blast in southern philippines  \n",
      "3995556                thailand 's suicide rate falls back  \n",
      "3995557                nepal announces #### as export year  \n",
      "3995558  thai scientists succeed in making plants flowe...  \n",
      "\n",
      "[3995559 rows x 2 columns]\n"
     ]
    }
   ],
   "source": [
    "# concatenate three splits into a single dataframe for EDA and pre-processing\n",
    "frames = [df_train, df_test, df_val]\n",
    "corpus = pd.concat(frames, ignore_index=True)\n",
    "\n",
    "# display new concatenated dataframe\n",
    "print(corpus)"
   ]
  },
  {
   "cell_type": "markdown",
   "metadata": {},
   "source": [
    "Observing the new combined output, the comprehensive dataset has a total of 3,995,559 rows. We can now conduct our EDA then perform data pre-processing."
   ]
  },
  {
   "cell_type": "markdown",
   "metadata": {},
   "source": [
    "## Exploratory Data Analysis"
   ]
  },
  {
   "cell_type": "code",
   "execution_count": 5,
   "metadata": {},
   "outputs": [
    {
     "name": "stdout",
     "output_type": "stream",
     "text": [
      "document    0\n",
      "summary     0\n",
      "dtype: int64\n"
     ]
    }
   ],
   "source": [
    "# first, check for null values\n",
    "\n",
    "print(corpus.isnull().sum())"
   ]
  },
  {
   "cell_type": "markdown",
   "metadata": {},
   "source": [
    "We confirmed there are no null values in either column, which is a good starting point."
   ]
  },
  {
   "cell_type": "code",
   "execution_count": 8,
   "metadata": {},
   "outputs": [],
   "source": [
    "# inspiration for generating numeric columns for descriptive statistics and analysis from the following notebook -\n",
    "# https://colab.research.google.com/github/glopasso/capstone/blob/master/extractive/notebooks/02-exploratory-data-analysis.ipynb#scrollTo=aulxLyyFFkei,\n",
    "# comments were added to source code for clarity and function calls were modified to fit our workspace\n",
    "\n",
    "# define functions used to create numeric columns for analysis\n",
    "\n",
    "# remove punctuation from entries\n",
    "def tokens_without_punctuation(text):\n",
    "    tokens = word_tokenize(text)\n",
    "    no_punctuation = [x for x in tokens if not re.fullmatch('[' + string.punctuation + ']+', x)]\n",
    "    return no_punctuation\n",
    "\n",
    "# count words per entry\n",
    "def len_tokens_without_punctuation(text):\n",
    "    return(len(tokens_without_punctuation(text)))\n",
    "\n",
    "# separates sentences that are ended with \"\\n\" rather than punctuation\n",
    "def sentence_tokenize(text):\n",
    "    sentence_tokenized = list()\n",
    "    for txt in text.split('\\n'):\n",
    "        sentence_tokenized += nltk.sent_tokenize(txt)\n",
    "    return sentence_tokenized\n",
    "\n",
    "# count sentences per entry\n",
    "def len_sentence_tokenize(text):\n",
    "    return len(sentence_tokenize(text))"
   ]
  },
  {
   "cell_type": "code",
   "execution_count": 9,
   "metadata": {},
   "outputs": [
    {
     "name": "stdout",
     "output_type": "stream",
     "text": [
      "character counts completed.\n",
      "word counts completed.\n",
      "sentence counts completed.\n"
     ]
    }
   ],
   "source": [
    "# idea for creating numeric columns for EDA from - \n",
    "# https://colab.research.google.com/github/glopasso/capstone/blob/master/extractive/notebooks/02-exploratory-data-analysis.ipynb#scrollTo=aulxLyyFFkei,\n",
    "# comments and progress outputs added to source code, function inputs and variables were updated to match our dataset\n",
    "\n",
    "# generate numeric columns in corpus dataframe for sentence, word, and character counts using previously defined tokenization and length functions\n",
    "\n",
    "# create character count columns for summary and document entries\n",
    "corpus['document_char_count'] = corpus['document'].apply(len)\n",
    "corpus['summary_char_count'] = corpus['summary'].apply(len)\n",
    "print(\"character counts completed.\")\n",
    "\n",
    "# create word count columns for summary and document entries\n",
    "corpus['document_word_count'] = corpus['document'].apply(len_tokens_without_punctuation)\n",
    "corpus['summary_word_count'] = corpus['summary'].apply(len_tokens_without_punctuation)\n",
    "print(\"word counts completed.\")\n",
    "\n",
    "# create sentence count columns for summary and document entries\n",
    "corpus['document_sentence_count'] = corpus['document'].apply(len_sentence_tokenize)\n",
    "corpus['summary_sentence_count'] = corpus['summary'].apply(len_sentence_tokenize)\n",
    "print(\"sentence counts completed.\")"
   ]
  },
  {
   "cell_type": "code",
   "execution_count": 10,
   "metadata": {},
   "outputs": [
    {
     "data": {
      "text/html": [
       "<div>\n",
       "<style scoped>\n",
       "    .dataframe tbody tr th:only-of-type {\n",
       "        vertical-align: middle;\n",
       "    }\n",
       "\n",
       "    .dataframe tbody tr th {\n",
       "        vertical-align: top;\n",
       "    }\n",
       "\n",
       "    .dataframe thead th {\n",
       "        text-align: right;\n",
       "    }\n",
       "</style>\n",
       "<table border=\"1\" class=\"dataframe\">\n",
       "  <thead>\n",
       "    <tr style=\"text-align: right;\">\n",
       "      <th></th>\n",
       "      <th>document</th>\n",
       "      <th>summary</th>\n",
       "      <th>document_char_count</th>\n",
       "      <th>summary_char_count</th>\n",
       "      <th>document_word_count</th>\n",
       "      <th>summary_word_count</th>\n",
       "      <th>document_sentence_count</th>\n",
       "      <th>summary_sentence_count</th>\n",
       "    </tr>\n",
       "  </thead>\n",
       "  <tbody>\n",
       "    <tr>\n",
       "      <th>0</th>\n",
       "      <td>australia 's current account deficit shrunk by...</td>\n",
       "      <td>australian current account deficit narrows sha...</td>\n",
       "      <td>191</td>\n",
       "      <td>50</td>\n",
       "      <td>28</td>\n",
       "      <td>6</td>\n",
       "      <td>1</td>\n",
       "      <td>1</td>\n",
       "    </tr>\n",
       "    <tr>\n",
       "      <th>1</th>\n",
       "      <td>at least two people were killed in a suspected...</td>\n",
       "      <td>at least two dead in southern philippines blast</td>\n",
       "      <td>149</td>\n",
       "      <td>47</td>\n",
       "      <td>25</td>\n",
       "      <td>8</td>\n",
       "      <td>1</td>\n",
       "      <td>1</td>\n",
       "    </tr>\n",
       "    <tr>\n",
       "      <th>2</th>\n",
       "      <td>australian shares closed down #.# percent mond...</td>\n",
       "      <td>australian stocks close down #.# percent</td>\n",
       "      <td>137</td>\n",
       "      <td>40</td>\n",
       "      <td>20</td>\n",
       "      <td>5</td>\n",
       "      <td>1</td>\n",
       "      <td>1</td>\n",
       "    </tr>\n",
       "    <tr>\n",
       "      <th>3</th>\n",
       "      <td>south korea 's nuclear envoy kim sook urged no...</td>\n",
       "      <td>envoy urges north korea to restart nuclear dis...</td>\n",
       "      <td>166</td>\n",
       "      <td>54</td>\n",
       "      <td>26</td>\n",
       "      <td>8</td>\n",
       "      <td>1</td>\n",
       "      <td>1</td>\n",
       "    </tr>\n",
       "    <tr>\n",
       "      <th>4</th>\n",
       "      <td>south korea on monday announced sweeping tax r...</td>\n",
       "      <td>skorea announces tax cuts to stimulate economy</td>\n",
       "      <td>180</td>\n",
       "      <td>46</td>\n",
       "      <td>25</td>\n",
       "      <td>7</td>\n",
       "      <td>1</td>\n",
       "      <td>1</td>\n",
       "    </tr>\n",
       "  </tbody>\n",
       "</table>\n",
       "</div>"
      ],
      "text/plain": [
       "                                            document  \\\n",
       "0  australia 's current account deficit shrunk by...   \n",
       "1  at least two people were killed in a suspected...   \n",
       "2  australian shares closed down #.# percent mond...   \n",
       "3  south korea 's nuclear envoy kim sook urged no...   \n",
       "4  south korea on monday announced sweeping tax r...   \n",
       "\n",
       "                                             summary  document_char_count  \\\n",
       "0  australian current account deficit narrows sha...                  191   \n",
       "1    at least two dead in southern philippines blast                  149   \n",
       "2           australian stocks close down #.# percent                  137   \n",
       "3  envoy urges north korea to restart nuclear dis...                  166   \n",
       "4     skorea announces tax cuts to stimulate economy                  180   \n",
       "\n",
       "   summary_char_count  document_word_count  summary_word_count  \\\n",
       "0                  50                   28                   6   \n",
       "1                  47                   25                   8   \n",
       "2                  40                   20                   5   \n",
       "3                  54                   26                   8   \n",
       "4                  46                   25                   7   \n",
       "\n",
       "   document_sentence_count  summary_sentence_count  \n",
       "0                        1                       1  \n",
       "1                        1                       1  \n",
       "2                        1                       1  \n",
       "3                        1                       1  \n",
       "4                        1                       1  "
      ]
     },
     "execution_count": 10,
     "metadata": {},
     "output_type": "execute_result"
    }
   ],
   "source": [
    "# display new version of corpus dataframe with numeric count columns\n",
    "corpus.head()"
   ]
  },
  {
   "cell_type": "markdown",
   "metadata": {},
   "source": [
    "The comprehensive corpus dataframe now includes numeric columns for character, word, and sentence counts for document and summary inputs. These columns can be used to generate descriptive statistics."
   ]
  },
  {
   "cell_type": "code",
   "execution_count": 11,
   "metadata": {},
   "outputs": [
    {
     "data": {
      "text/html": [
       "<div>\n",
       "<style scoped>\n",
       "    .dataframe tbody tr th:only-of-type {\n",
       "        vertical-align: middle;\n",
       "    }\n",
       "\n",
       "    .dataframe tbody tr th {\n",
       "        vertical-align: top;\n",
       "    }\n",
       "\n",
       "    .dataframe thead th {\n",
       "        text-align: right;\n",
       "    }\n",
       "</style>\n",
       "<table border=\"1\" class=\"dataframe\">\n",
       "  <thead>\n",
       "    <tr style=\"text-align: right;\">\n",
       "      <th></th>\n",
       "      <th>count</th>\n",
       "      <th>mean</th>\n",
       "      <th>std</th>\n",
       "      <th>min</th>\n",
       "      <th>25%</th>\n",
       "      <th>50%</th>\n",
       "      <th>75%</th>\n",
       "      <th>max</th>\n",
       "    </tr>\n",
       "  </thead>\n",
       "  <tbody>\n",
       "    <tr>\n",
       "      <th>document_char_count</th>\n",
       "      <td>3995559.0</td>\n",
       "      <td>181.53</td>\n",
       "      <td>47.37</td>\n",
       "      <td>3.0</td>\n",
       "      <td>151.0</td>\n",
       "      <td>182.0</td>\n",
       "      <td>209.0</td>\n",
       "      <td>636.0</td>\n",
       "    </tr>\n",
       "    <tr>\n",
       "      <th>summary_char_count</th>\n",
       "      <td>3995559.0</td>\n",
       "      <td>51.10</td>\n",
       "      <td>14.71</td>\n",
       "      <td>6.0</td>\n",
       "      <td>41.0</td>\n",
       "      <td>50.0</td>\n",
       "      <td>60.0</td>\n",
       "      <td>265.0</td>\n",
       "    </tr>\n",
       "    <tr>\n",
       "      <th>document_word_count</th>\n",
       "      <td>3995559.0</td>\n",
       "      <td>28.62</td>\n",
       "      <td>7.58</td>\n",
       "      <td>0.0</td>\n",
       "      <td>24.0</td>\n",
       "      <td>28.0</td>\n",
       "      <td>33.0</td>\n",
       "      <td>92.0</td>\n",
       "    </tr>\n",
       "    <tr>\n",
       "      <th>summary_word_count</th>\n",
       "      <td>3995559.0</td>\n",
       "      <td>8.05</td>\n",
       "      <td>2.37</td>\n",
       "      <td>1.0</td>\n",
       "      <td>6.0</td>\n",
       "      <td>8.0</td>\n",
       "      <td>9.0</td>\n",
       "      <td>43.0</td>\n",
       "    </tr>\n",
       "    <tr>\n",
       "      <th>document_sentence_count</th>\n",
       "      <td>3995559.0</td>\n",
       "      <td>1.01</td>\n",
       "      <td>0.13</td>\n",
       "      <td>1.0</td>\n",
       "      <td>1.0</td>\n",
       "      <td>1.0</td>\n",
       "      <td>1.0</td>\n",
       "      <td>40.0</td>\n",
       "    </tr>\n",
       "    <tr>\n",
       "      <th>summary_sentence_count</th>\n",
       "      <td>3995559.0</td>\n",
       "      <td>1.00</td>\n",
       "      <td>0.05</td>\n",
       "      <td>1.0</td>\n",
       "      <td>1.0</td>\n",
       "      <td>1.0</td>\n",
       "      <td>1.0</td>\n",
       "      <td>4.0</td>\n",
       "    </tr>\n",
       "  </tbody>\n",
       "</table>\n",
       "</div>"
      ],
      "text/plain": [
       "                             count    mean    std  min    25%    50%    75%  \\\n",
       "document_char_count      3995559.0  181.53  47.37  3.0  151.0  182.0  209.0   \n",
       "summary_char_count       3995559.0   51.10  14.71  6.0   41.0   50.0   60.0   \n",
       "document_word_count      3995559.0   28.62   7.58  0.0   24.0   28.0   33.0   \n",
       "summary_word_count       3995559.0    8.05   2.37  1.0    6.0    8.0    9.0   \n",
       "document_sentence_count  3995559.0    1.01   0.13  1.0    1.0    1.0    1.0   \n",
       "summary_sentence_count   3995559.0    1.00   0.05  1.0    1.0    1.0    1.0   \n",
       "\n",
       "                           max  \n",
       "document_char_count      636.0  \n",
       "summary_char_count       265.0  \n",
       "document_word_count       92.0  \n",
       "summary_word_count        43.0  \n",
       "document_sentence_count   40.0  \n",
       "summary_sentence_count     4.0  "
      ]
     },
     "execution_count": 11,
     "metadata": {},
     "output_type": "execute_result"
    }
   ],
   "source": [
    "# this line of code was common sense, but for citation's sake, it was also used in -\n",
    "# https://colab.research.google.com/github/glopasso/capstone/blob/master/extractive/notebooks/02-exploratory-data-analysis.ipynb#scrollTo=aulxLyyFFkei\n",
    "\n",
    "# produce descriptive statistics for numeric columns\n",
    "corpus.describe().T.round(2)"
   ]
  },
  {
   "cell_type": "markdown",
   "metadata": {},
   "source": [
    "Utilizing the new numeric columns, we are able to generate descriptive statistics for character, word, and sentence count values for the document inputs and summaries. Mean values are all higher for the document inputs than the summaries, which is to be expected as a summary is supposed to be a shortened version of the input. Average character count is almost four times higher (181 vs 51) and average word count is roughly 3.5 times higher (28 vs 8). Mean sentence count is much closer together (1.01 vs. 1.00), but this may be because headlines are often only one sentence long anyway, or because the style of tokenization used to create these values removed most punctuation. Minimum values for all counts were similar for document entries and summaries, but maximum values varied greatly. The document entry with the most characters had over 630, and the highest summary character count was only 265. The maximum document entry word count was over twice the maximum summary word count (92 vs. 43), and the document entry with the most sentences was ten times longer than the summary with the most sentences (40 vs. 4). We were inclined to believe the 40 sentence count for document entry may be in error (or at least an extreme outlier), as a headline with that many sentences is nearly unheard of."
   ]
  },
  {
   "cell_type": "code",
   "execution_count": 12,
   "metadata": {},
   "outputs": [
    {
     "data": {
      "image/png": "[encoded data removed]",
      "text/plain": [
       "<Figure size 1296x648 with 1 Axes>"
      ]
     },
     "metadata": {
      "needs_background": "light"
     },
     "output_type": "display_data"
    }
   ],
   "source": [
    "# these documentation pages were used in combination with a source code collab notebook to create the following three histograms using the numeric columns\n",
    "# the idea to use the numeric columns for comparative histograms was from the source code collab notebook,\n",
    "# but we generated the histograms themselves in a different way using seaborn\n",
    "# https://seaborn.pydata.org/generated/seaborn.histplot.html\n",
    "# https://www.statology.org/seaborn-log-scale/\n",
    "# https://colab.research.google.com/github/glopasso/capstone/blob/master/extractive/notebooks/02-exploratory-data-analysis.ipynb#scrollTo=aulxLyyFFkei\n",
    "# https://www.geeksforgeeks.org/how-to-set-a-seaborn-chart-figure-size/\n",
    "\n",
    "# character count histogram\n",
    "\n",
    "# isolate the character count columns of the corpus df\n",
    "corpus_char_count = corpus[[\"document_char_count\", \"summary_char_count\"]]\n",
    "\n",
    "# specify the parameters for the graph\n",
    "fig, ax = plt.subplots(figsize=(18,9))\n",
    "ax.set_xlabel(\"Number of characters\")\n",
    "ax.set_title(\"Historgram of Character Counts\")\n",
    "\n",
    "# generate the histogram using seaborn\n",
    "# we chose to use 100 bins for the histogram after some trial and error due to the size of the dataset (almost 4 million) and the wide range of values (roughly 650)\n",
    "sns.histplot(data=corpus_char_count, bins=100, ax=ax)\n",
    "# use a log scale for the y axis count values due to their massive size\n",
    "# we found this produced a more meaningful graph\n",
    "plt.yscale('log')"
   ]
  },
  {
   "cell_type": "markdown",
   "metadata": {},
   "source": [
    "Looking at the histogram above, it is immediately apparent that the document entries have a far wider range than the summaries, as well as a very slightly more balanced distribution. However, both values are still heavily right skewed, with document entries peaking around 200 characters and summaries peaking around 50. Summaries have much higher counts for character counts between 0 and 100, quickly falling in frequency as character count values increase beyond that, with only a few outlier instances having character counts higher than 200. The majority of document entries seem to fall between 100 and 300 characters, with only a few examples having less than 50 characters or more than 500."
   ]
  },
  {
   "cell_type": "code",
   "execution_count": 13,
   "metadata": {},
   "outputs": [
    {
     "data": {
      "image/png": "[encoded data removed]",
      "text/plain": [
       "<Figure size 1296x648 with 1 Axes>"
      ]
     },
     "metadata": {
      "needs_background": "light"
     },
     "output_type": "display_data"
    }
   ],
   "source": [
    "# word count histogram\n",
    "\n",
    "# isolate the word count columns of the corpus df\n",
    "corpus_word_count = corpus[[\"document_word_count\", \"summary_word_count\"]]\n",
    "\n",
    "# specify the parameters for the graph\n",
    "fig, ax = plt.subplots(figsize=(18,9))\n",
    "ax.set_xlabel(\"Number of words\")\n",
    "ax.set_title(\"Historgram of Word Counts\")\n",
    "\n",
    "# generate the histogram using seaborn\n",
    "# we chose to use 50 bins for the histogram after some trial and error due to the smaller range of values relative to the previous data subset\n",
    "sns.histplot(data=corpus_word_count, bins=50, ax=ax)\n",
    "# we also used a log scale for the y axis count values in this histogram\n",
    "# we found this also produced a more meaningful graph here\n",
    "plt.yscale('log')"
   ]
  },
  {
   "cell_type": "markdown",
   "metadata": {},
   "source": [
    "The distribution of values for word count for document entries and summaries is similar to the previous character count, but this makes logical sense as an entry having more or less characters is likely to have more or less words. As a result, it would be expected that the number of characters would at least loosely follow the distribution of character counts. The values here are of course much lower, with document entries peaking at around 30 words, and summaries peaking between 7 and 10 words. Both value sets are still right skewed, though possibly slightly less right skewed than the character count values were. The distinction between how right skewed the summary set is vs. the document set is more pronounced here. The majority of summary instances fall betweeen 5 and 20 words, while the document instances have relatively high counts anywhere from 10 to almost 50 words."
   ]
  },
  {
   "cell_type": "code",
   "execution_count": 14,
   "metadata": {},
   "outputs": [
    {
     "data": {
      "image/png": "[encoded data removed]",
      "text/plain": [
       "<Figure size 1296x648 with 1 Axes>"
      ]
     },
     "metadata": {
      "needs_background": "light"
     },
     "output_type": "display_data"
    }
   ],
   "source": [
    "# sentence count histogram\n",
    "\n",
    "# isolate the sentence count columns of the corpus df\n",
    "corpus_sent_count = corpus[[\"document_sentence_count\", \"summary_sentence_count\"]]\n",
    "\n",
    "# specify the parameters for the graph\n",
    "fig, ax = plt.subplots(figsize=(18,9))\n",
    "ax.set_xlabel(\"Number of sentences\")\n",
    "ax.set_title(\"Historgram of Sentence Counts\")\n",
    "\n",
    "# generate the histogram using seaborn\n",
    "# we chose to use 40 bins for the histogram after some trial and error due to the extremely tight distribution of values\n",
    "# we found that this most comprehensively portrayed the data\n",
    "sns.histplot(data=corpus_sent_count, bins=40, ax=ax)\n",
    "# we also used a log scale for the y axis count values in this histogram\n",
    "# we found this also produced a more meaningful graph here\n",
    "plt.yscale('log')"
   ]
  },
  {
   "cell_type": "markdown",
   "metadata": {},
   "source": [
    "While not necessarily surprising, this graph does still provide some interesting information about the dataset. It seems likely that the two document entries with 40 and 20 sentences are likely due to some kind of error, and if not they are extreme outliers. Other than these two, every other instance, document or summary, had less than ten sentences, with summaries all having less than five. These distributions are both, of course, very right skewed."
   ]
  },
  {
   "cell_type": "code",
   "execution_count": 15,
   "metadata": {},
   "outputs": [
    {
     "data": {
      "text/plain": [
       "<AxesSubplot:title={'center':'Bar Chart of Most Common Words in Document Entries'}, xlabel='Count', ylabel='Most common words'>"
      ]
     },
     "execution_count": 15,
     "metadata": {},
     "output_type": "execute_result"
    },
    {
     "data": {
      "image/png": "[encoded data removed]",
      "text/plain": [
       "<Figure size 1296x648 with 1 Axes>"
      ]
     },
     "metadata": {
      "needs_background": "light"
     },
     "output_type": "display_data"
    }
   ],
   "source": [
    "# inspiration for the remaining EDA methods came from the following article -\n",
    "# https://neptune.ai/blog/exploratory-data-analysis-natural-language-processing-tools\n",
    "# the follow example code was used to construct the following two bar charts -\n",
    "# https://app.neptune.ai/o/neptune-ai/org/eda-nlp-tools/n/1-4-top-non-stopwords-barchart-36267acc-a418-4a5f-a3ba-67a3b51dde12/b57bc536-8cec-46a7-918c-60fba6f2c83d\n",
    "# comments were added, variables and inputs were modified in the source code to fit our workspace, and different parameters were used to create the graphs\n",
    "\n",
    "# bar chart of most common non-stopwords in document entries\n",
    "\n",
    "# create variable for list of stopwords\n",
    "stop = set(stopwords.words(\"english\"))\n",
    "\n",
    "# isolate document column of corpus df\n",
    "corpus_doc = corpus[\"document\"]\n",
    "\n",
    "# separate individual words in all document entries into lists\n",
    "# compile all words from all entries into one list\n",
    "corpus_splt = corpus_doc.str.split()\n",
    "corpus_list = corpus_splt.values.tolist()\n",
    "words = [word for i in corpus_list for word in i]\n",
    "\n",
    "# create a word counter that identifies the most common words in our list\n",
    "counter = Counter(words)\n",
    "most = counter.most_common()\n",
    "\n",
    "# set x and y variables as lists\n",
    "x, y= [], []\n",
    "\n",
    "# for words and their word counts in the list of 40 most common words\n",
    "for word,count in most[:40]:\n",
    "    # if the word is not a stop word\n",
    "    if (word not in stop):\n",
    "        # append the word and its count to the x and y lists\n",
    "        x.append(word)\n",
    "        y.append(count)\n",
    "\n",
    "# specify the parameters for the graph and generate\n",
    "fig, ax = plt.subplots(figsize=(18,9))\n",
    "ax.set_xlabel(\"Count\")\n",
    "ax.set_ylabel(\"Most common words\")\n",
    "ax.set_title(\"Bar Chart of Most Common Words in Document Entries\")\n",
    "sns.barplot(x=y,y=x)"
   ]
  },
  {
   "cell_type": "markdown",
   "metadata": {},
   "source": [
    "Prior to tokenization, it makes sense that some of the most common \"words\" isolated by the simple split() command would be punctuation or an apostrophe \"S\". \"Said\" being high also seems to make sense for headlines and news articles, as statements and quotes are often used as a way of grabbing attention or summarizing a situation. We found the relative order of the days of the week interesting - Tuesday seems to be the heaviest day for newsworthy events in our sample. We were unsure what \"UNK\" is (if not an abbreviation for \"The University of Nebraska Kearney,\" which seems unlikely). \"President\" and \"government\" are to be expected."
   ]
  },
  {
   "cell_type": "code",
   "execution_count": 16,
   "metadata": {},
   "outputs": [
    {
     "data": {
      "text/plain": [
       "<AxesSubplot:title={'center':'Bar Chart of Most Common Words in Summaries'}, xlabel='Count', ylabel='Most common words'>"
      ]
     },
     "execution_count": 16,
     "metadata": {},
     "output_type": "execute_result"
    },
    {
     "data": {
      "image/png": "[encoded data removed]",
      "text/plain": [
       "<Figure size 1296x648 with 1 Axes>"
      ]
     },
     "metadata": {
      "needs_background": "light"
     },
     "output_type": "display_data"
    }
   ],
   "source": [
    "# https://app.neptune.ai/o/neptune-ai/org/eda-nlp-tools/n/1-4-top-non-stopwords-barchart-36267acc-a418-4a5f-a3ba-67a3b51dde12/b57bc536-8cec-46a7-918c-60fba6f2c83d\n",
    "# https://neptune.ai/blog/exploratory-data-analysis-natural-language-processing-tools\n",
    "\n",
    "\n",
    "# bar chart of most common non-stopwords in summaries\n",
    "\n",
    "# create variable for list of stopwords\n",
    "stop = set(stopwords.words('english'))\n",
    "\n",
    "# isolate summary column of corpus df\n",
    "corpus_summ = corpus[\"summary\"]\n",
    "\n",
    "# separate individual words in all summaries into lists\n",
    "# compile all words from all entries into one list\n",
    "corpus_splt = corpus_summ.str.split()\n",
    "corpus_list = corpus_splt.values.tolist()\n",
    "words = [word for i in corpus_list for word in i]\n",
    "\n",
    "# create a word counter that identifies the most common words in our list\n",
    "counter = Counter(words)\n",
    "most = counter.most_common()\n",
    "\n",
    "# set x and y variables as lists\n",
    "x, y= [], []\n",
    "\n",
    "# for words and their word counts in the list of 41 most common words\n",
    "for word,count in most[:40]:\n",
    "    # if the word is not a stop word\n",
    "    if (word not in stop):\n",
    "        # append the word and its count to the x and y lists\n",
    "        x.append(word)\n",
    "        y.append(count)\n",
    "\n",
    "# specify the parameters for the graph and generate\n",
    "fig, ax = plt.subplots(figsize=(18,9))\n",
    "ax.set_xlabel(\"Count\")\n",
    "ax.set_ylabel(\"Most common words\")\n",
    "ax.set_title(\"Bar Chart of Most Common Words in Summaries\")\n",
    "sns.barplot(x=y,y=x)"
   ]
  },
  {
   "cell_type": "markdown",
   "metadata": {},
   "source": [
    "This chart, to us, was a little more interesting. Apostrophe \"S\" is still towards the top, which makes sense logically, but the punctuation is gone, which may be an indication of the lower sentence count and likely less need for commas in the summaries. The mysterious \"UNK\" is very high for summaries, which is unusual. Far more proper nouns are present on this list, which may reflect that summaries attempt to capture the core essense of the headlines, leaving more superfluous details like days of the week out."
   ]
  },
  {
   "cell_type": "code",
   "execution_count": 7,
   "metadata": {},
   "outputs": [
    {
     "data": {
      "text/plain": [
       "<AxesSubplot:title={'center':'Histogram of Average Characters per Word in Document Entries'}, xlabel='Characters per word', ylabel='Count'>"
      ]
     },
     "execution_count": 7,
     "metadata": {},
     "output_type": "execute_result"
    },
    {
     "data": {
      "image/png": "[encoded data removed]",
      "text/plain": [
       "<Figure size 1296x648 with 1 Axes>"
      ]
     },
     "metadata": {
      "needs_background": "light"
     },
     "output_type": "display_data"
    }
   ],
   "source": [
    "# source code for these two histograms from the following article -\n",
    "# https://neptune.ai/blog/exploratory-data-analysis-natural-language-processing-tools\n",
    "# formatting for the output graphs were modified, and variables were adjusted to fit our workspace\n",
    "\n",
    "# histogram of average characters per word in document entries\n",
    "\n",
    "# specify the parameters for the graph\n",
    "fig, ax = plt.subplots(figsize=(18,9))\n",
    "ax.set_xlabel(\"Characters per word\")\n",
    "ax.set_ylabel(\"Count\")\n",
    "ax.set_title(\"Histogram of Average Characters per Word in Document Entries\")\n",
    "\n",
    "# split each document entry into a list of \"words\"\n",
    "# count the number of characters in each word\n",
    "# calculate the average of these lengths\n",
    "# plot the values on a histogram\n",
    "corpus['document'].str.split().apply(lambda x : [len(i) for i in x]).map(lambda x: np.mean(x)).hist()"
   ]
  },
  {
   "cell_type": "markdown",
   "metadata": {},
   "source": [
    "Interestingly, the average number of characters per word seems to be fairly evenly distributed for document entries. The values peak at a value just below 5, and almost all instances fall between values of 3.5 and 6.5. The range appears to be from around a minimum of 2.5 to a maximum of 7.25. This could reflect varied word use in news headlines."
   ]
  },
  {
   "cell_type": "code",
   "execution_count": 8,
   "metadata": {},
   "outputs": [
    {
     "data": {
      "text/plain": [
       "<AxesSubplot:title={'center':'Histogram of Average Characters per Word in Summaries'}, xlabel='Characters per word', ylabel='Count'>"
      ]
     },
     "execution_count": 8,
     "metadata": {},
     "output_type": "execute_result"
    },
    {
     "data": {
      "image/png": "[encoded data removed]",
      "text/plain": [
       "<Figure size 1296x648 with 1 Axes>"
      ]
     },
     "metadata": {
      "needs_background": "light"
     },
     "output_type": "display_data"
    }
   ],
   "source": [
    "# https://neptune.ai/blog/exploratory-data-analysis-natural-language-processing-tools\n",
    "\n",
    "# histogram of average characters per word in summaries\n",
    "\n",
    "# specify the parameters for the graph\n",
    "fig, ax = plt.subplots(figsize=(18,9))\n",
    "ax.set_xlabel(\"Characters per word\")\n",
    "ax.set_ylabel(\"Count\")\n",
    "ax.set_title(\"Histogram of Average Characters per Word in Summaries\")\n",
    "\n",
    "# split each document entry into a list of \"words\"\n",
    "# count the number of characters in each word\n",
    "# calculate the average of these lengths\n",
    "# plot the values on a histogram\n",
    "corpus['summary'].str.split().apply(lambda x : [len(i) for i in x]).map(lambda x: np.mean(x)).hist()"
   ]
  },
  {
   "cell_type": "markdown",
   "metadata": {},
   "source": [
    "Unlike the average characters per word in document entries, the value distribution for average characters per word in summaries is more right skewed. The minimum value is similar (around 2.5), but the maximum value is much higher (over 10). The peak of instances is betweeen 5 and 6, which is slightly higher than for document entries. This could reflect that summaries likely contain more names and proper nouns, and must attempt to be more descriptive in fewer words than a standard headline. Tighter restrictions on word count could lead to a decrease in short filler words (or stop words that have not been removed yet)."
   ]
  },
  {
   "cell_type": "code",
   "execution_count": 9,
   "metadata": {},
   "outputs": [],
   "source": [
    "# source code for the remaining four bar charts and this function is from the following article -\n",
    "# https://neptune.ai/blog/exploratory-data-analysis-natural-language-processing-tools\n",
    "# comments were added, variables and function calls were modified to fit our workspace, and the formatting of the charts was changed\n",
    "\n",
    "# function to gather the top n-grams from a given dataset\n",
    "# the type of n-gram is specified as a parameter\n",
    "def get_top_ngram(corpus, n=None):\n",
    "    # utilize the count vectorizer model from sklearn's feature extraction package for text\n",
    "    vec = CountVectorizer(ngram_range=(n, n)).fit(corpus)\n",
    "    # compile all n-grams within the given dataset, determine frequency of each, and return the 10 most common\n",
    "    bag_of_words = vec.transform(corpus)\n",
    "    sum_words = bag_of_words.sum(axis=0)\n",
    "    words_freq = [(word, sum_words[0, idx])\n",
    "                  for word, idx in vec.vocabulary_.items()]\n",
    "    words_freq = sorted(words_freq, key = lambda x: x[1], reverse=True)\n",
    "    return words_freq[:10]"
   ]
  },
  {
   "cell_type": "code",
   "execution_count": 10,
   "metadata": {
    "notebookRunGroups": {
     "groupValue": ""
    }
   },
   "outputs": [
    {
     "data": {
      "text/plain": [
       "<AxesSubplot:title={'center':'Bar Chart of Most Common Bigrams in Document Entries'}, xlabel='Count', ylabel='Most common bigrams'>"
      ]
     },
     "execution_count": 10,
     "metadata": {},
     "output_type": "execute_result"
    },
    {
     "data": {
      "image/png": "[encoded data removed]",
      "text/plain": [
       "<Figure size 1296x648 with 1 Axes>"
      ]
     },
     "metadata": {
      "needs_background": "light"
     },
     "output_type": "display_data"
    }
   ],
   "source": [
    "# https://neptune.ai/blog/exploratory-data-analysis-natural-language-processing-tools\n",
    "\n",
    "# bar chart of the top bigrams in document entries\n",
    "\n",
    "# call top n-gram function on document column in corpus\n",
    "dox_top_n_bigrams = get_top_ngram(corpus['document'], 2)[:10]\n",
    "\n",
    "# map output bigrams and their frequencies to x and y variables\n",
    "x, y = map(list, zip(*dox_top_n_bigrams))\n",
    "\n",
    "# specify the parameters for the graph\n",
    "fig, ax = plt.subplots(figsize=(18,9))\n",
    "ax.set_xlabel(\"Count\")\n",
    "ax.set_ylabel(\"Most common bigrams\")\n",
    "ax.set_title(\"Bar Chart of Most Common Bigrams in Document Entries\")\n",
    "\n",
    "# generate bar chart using seaborn, transpose x and y axes for more readable display\n",
    "sns.barplot(x=y, y=x)"
   ]
  },
  {
   "cell_type": "markdown",
   "metadata": {},
   "source": [
    "It does not come as a surprise that the majority of the top bigrams in headlines are composed of stop words. We will account for this in our data pre-processing step, which should fix this problem. The fact that \"the united\" is the next highest after all the stop words could be explained by the fact that several nations have \"the united\" at the beginning, or just that the sample of news articles used is heavily United States-biased. We did find it interesting that although a previous chart showed that \"tuesday\" was the most common day of the week in document entries, \"on wednesday\" specifically is actually more common than \"on tuesday.\" This must mean that Tuesday was frequently referenced in other ways."
   ]
  },
  {
   "cell_type": "code",
   "execution_count": 11,
   "metadata": {},
   "outputs": [
    {
     "data": {
      "text/plain": [
       "<AxesSubplot:title={'center':'Bar Chart of Most Common Bigrams in Summaries'}, xlabel='Count', ylabel='Most common bigrams'>"
      ]
     },
     "execution_count": 11,
     "metadata": {},
     "output_type": "execute_result"
    },
    {
     "data": {
      "image/png": "[encoded data removed]",
      "text/plain": [
       "<Figure size 1296x648 with 1 Axes>"
      ]
     },
     "metadata": {
      "needs_background": "light"
     },
     "output_type": "display_data"
    }
   ],
   "source": [
    "# https://neptune.ai/blog/exploratory-data-analysis-natural-language-processing-tools\n",
    "\n",
    "# bar chart of the top bigrams in summaries\n",
    "\n",
    "# call top n-gram function on summary column in corpus, specifying search for bigrams\n",
    "dox_top_n_bigrams = get_top_ngram(corpus['summary'], 2)[:10]\n",
    "\n",
    "# map output bigrams and their frequencies to x and y variables\n",
    "x, y = map(list, zip(*dox_top_n_bigrams))\n",
    "\n",
    "# specify the parameters for the graph\n",
    "fig, ax = plt.subplots(figsize=(18,9))\n",
    "ax.set_xlabel(\"Count\")\n",
    "ax.set_ylabel(\"Most common bigrams\")\n",
    "ax.set_title(\"Bar Chart of Most Common Bigrams in Summaries\")\n",
    "\n",
    "# generate bar chart using seaborn, transpose x and y axes for more readable display\n",
    "sns.barplot(x=y, y=x)"
   ]
  },
  {
   "cell_type": "markdown",
   "metadata": {},
   "source": [
    "\"Hong Kong\" being the number one bigram in summaries is interesting, because it contradicts the notion we gathered from our previous chart that the United States was constantly in the headlines (notice \"united states\" is not even on the chart). Similar to our most common word charts, the summary bigrams contain far more proper nouns and specific references. It's a bit sad that \"killed in\" is the second most common summary bigram. The heavy use of \"shares close\" again evidences lots of fiscal reports. Frequent mentions of \"world cup\" indicate these headlines were likely taken from a time frame close to the world cup's occurence."
   ]
  },
  {
   "cell_type": "code",
   "execution_count": 12,
   "metadata": {},
   "outputs": [
    {
     "data": {
      "text/plain": [
       "<AxesSubplot:title={'center':'Bar Chart of Most Common Trigrams in Document Entries'}, xlabel='Count', ylabel='Most common trigrams'>"
      ]
     },
     "execution_count": 12,
     "metadata": {},
     "output_type": "execute_result"
    },
    {
     "data": {
      "image/png": "[encoded data removed]",
      "text/plain": [
       "<Figure size 1296x648 with 1 Axes>"
      ]
     },
     "metadata": {
      "needs_background": "light"
     },
     "output_type": "display_data"
    }
   ],
   "source": [
    "# https://neptune.ai/blog/exploratory-data-analysis-natural-language-processing-tools\n",
    "\n",
    "# bar chart of the top trigrams in document entries\n",
    "\n",
    "# call top n-gram function on document column in corpus, specifying search for trigrams\n",
    "dox_top_tri_grams = get_top_ngram(corpus['document'], n=3)\n",
    "\n",
    "# map output trigrams and their frequencies to x and y variables\n",
    "x, y = map(list, zip(*dox_top_tri_grams))\n",
    "\n",
    "# specify the parameters for the graph\n",
    "fig, ax = plt.subplots(figsize=(18,9))\n",
    "ax.set_xlabel(\"Count\")\n",
    "ax.set_ylabel(\"Most common trigrams\")\n",
    "ax.set_title(\"Bar Chart of Most Common Trigrams in Document Entries\")\n",
    "\n",
    "# generate bar chart using seaborn, transpose x and y axes for more readable display\n",
    "sns.barplot(x=y, y=x)"
   ]
  },
  {
   "cell_type": "markdown",
   "metadata": {},
   "source": [
    "Apparently, when taken as a trigram, \"the united states\" was nearly three times as frequent as the next highest trigram in document entries (even beating out stop words!). Significantly less frequent than the US, but still above some stop word-based trigrams, \"the european union\" and \"the united nations\" also received frequent mention. Clearly former President George Bush was in office at the time these headlines were compiled. Mentioning news agencies (via \"news agency reported\") makes sense for news headlines."
   ]
  },
  {
   "cell_type": "code",
   "execution_count": 13,
   "metadata": {},
   "outputs": [
    {
     "data": {
      "text/plain": [
       "<AxesSubplot:title={'center':'Bar Chart of Most Common Trigrams in Summaries'}, xlabel='Count', ylabel='Most common trigrams'>"
      ]
     },
     "execution_count": 13,
     "metadata": {},
     "output_type": "execute_result"
    },
    {
     "data": {
      "image/png": "[encoded data removed]",
      "text/plain": [
       "<Figure size 1296x648 with 1 Axes>"
      ]
     },
     "metadata": {
      "needs_background": "light"
     },
     "output_type": "display_data"
    }
   ],
   "source": [
    "# https://neptune.ai/blog/exploratory-data-analysis-natural-language-processing-tools\n",
    "\n",
    "# bar chart of the top trigrams in summaries\n",
    "\n",
    "# call top n-gram function on summary column in corpus, specifying search for trigrams\n",
    "summ_top_tri_grams = get_top_ngram(corpus['summary'], n=3)\n",
    "\n",
    "# map output trigrams and their frequencies to x and y variables\n",
    "x, y = map(list, zip(*summ_top_tri_grams))\n",
    "\n",
    "# specify the parameters for the graph\n",
    "fig, ax = plt.subplots(figsize=(18,9))\n",
    "ax.set_xlabel(\"Count\")\n",
    "ax.set_ylabel(\"Most common trigrams\")\n",
    "ax.set_title(\"Bar Chart of Most Common Trigrams in Summaries\")\n",
    "\n",
    "# generate bar chart using seaborn, transpose x and y axes for more readable display\n",
    "sns.barplot(x=y,y=x)"
   ]
  },
  {
   "cell_type": "markdown",
   "metadata": {},
   "source": [
    "Similar to bigrams, summary trigrams have references to Hong Kong (via \"in hong kong\", \"hong kong shares,\" and \"hong kong stocks\") being the most, third, and fifth most frequent, respectively. Fiscal reports are clearly a significant portion of the articles compiled, as eight of the top ten most frequent trigrams are related to stocks or finances - \"shares close percent,\" \"hong kong shares,\" \"hong kong stocks,\" \"close percent higher,\" \"close percent lower,\" \"yen in tokyo,\" \"stock exchange index,\" and \"against yen in.\""
   ]
  },
  {
   "cell_type": "markdown",
   "metadata": {},
   "source": [
    "## Data Pre-Processing\n",
    "For our data pre-processing, we decided to include the following steps:\n",
    "* set all text to lowercase\n",
    "* remove all symbols and punctuation\n",
    "* remove stopwords\n",
    "* word tokenization\n",
    "* lemmatization\n",
    "\n",
    "We chose these elements for our processing pipeline because we wanted to streamline and minimize the datasets prior to model implementation, removing all unecessary and distracting data that may interfere with model training and output performance. After going through our pre-processing pipeline, the data will be\n",
    "* uniform in format (all lower case)\n",
    "* only include meaningful words/elements that will optimize model training (removing symbols, punctuation, and stop words)\n",
    "* vectorized into a structure that is machine-readable (tokenization)\n",
    "* normalized into a format that will increase model training accuracy and hopefully improve outputs (lemmatization)"
   ]
  },
  {
   "cell_type": "code",
   "execution_count": 106,
   "metadata": {},
   "outputs": [],
   "source": [
    "# the methods required to perform this function were found in this article -\n",
    "# https://aparnamishra144.medium.com/how-to-change-string-data-or-text-data-of-a-column-to-lowercase-in-pandas-248a8ce4ae01\n",
    "# the function and comments are our original work\n",
    "\n",
    "# set all words in all rows to lower case\n",
    "\n",
    "def lower(df):\n",
    "    # vectorize strings in each row in summary column and set to lower case\n",
    "    df[\"summary\"] = df[\"summary\"].str.lower()\n",
    "    print(\"summary column lowercased\")\n",
    "    # vectorize strings in each row in document column and set to lower case\n",
    "    df[\"document\"] = df[\"document\"].str.lower()\n",
    "    print(\"document column lowercased\")"
   ]
  },
  {
   "cell_type": "code",
   "execution_count": 107,
   "metadata": {},
   "outputs": [
    {
     "name": "stdout",
     "output_type": "stream",
     "text": [
      "[\"'s\", '!', '\"', '#', '$', '%', '&', \"'\", '(', ')', '*', '+', ',', '-', '.', '/', ':', ';', '<', '=', '>', '?', '@', '[', '\\\\', ']', '^', '_', '`', '{', '|', '}', '~']\n"
     ]
    }
   ],
   "source": [
    "# geeks for geeks and pandas doc pages were used as template source code and informed about parameter options\n",
    "# stackoverflow posts helped with debugging issues\n",
    "# https://stackoverflow.com/questions/42135409/removing-a-character-from-entire-data-frame\n",
    "# https://pandas.pydata.org/docs/reference/api/pandas.DataFrame.replace.html\n",
    "# https://www.geeksforgeeks.org/string-punctuation-in-python/\n",
    "# https://stackoverflow.com/questions/41425945/python-pandas-error-missing-unterminated-subpattern-at-position-2\n",
    "# https://stackoverflow.com/questions/28986489/how-to-replace-text-in-a-string-column-of-a-pandas-dataframe\n",
    "# comments and function are our original work, source code was modifed to fit our workspace\n",
    "\n",
    "# remove all symbols and punctuation\n",
    "\n",
    "# create instance of all punctuation symbols\n",
    "punctuation = string.punctuation\n",
    "\n",
    "# since we learned there are lots of apostrophe s in the dataset during EDA, we will add this to our remove list\n",
    "punct_list = [\"'s\"]\n",
    "\n",
    "# add all punctuation from the premade variable to our new list\n",
    "for symbol in punctuation:\n",
    "    punct_list.append(symbol)\n",
    "\n",
    "# display the symbols included in our list\n",
    "print(punct_list)\n",
    "\n",
    "def remove_punctuation(df):\n",
    "    # for each symbol in our punctuation list\n",
    "    for symbol in punct_list:\n",
    "        # iterate through the dataframe and replace every instance of the symbol with an empty string\n",
    "        df[\"document\"] = df[\"document\"].str.replace(symbol, \"\")\n",
    "        df[\"summary\"] = df[\"summary\"].str.replace(symbol, \"\")\n",
    "    print(\"symbols removed\")"
   ]
  },
  {
   "cell_type": "code",
   "execution_count": 108,
   "metadata": {},
   "outputs": [],
   "source": [
    "# source code and ideas for this process were gathered from the following geeks for geeks page and article -\n",
    "# https://www.geeksforgeeks.org/removing-stop-words-nltk-python/\n",
    "# https://www.analyticsvidhya.com/blog/2019/07/how-get-started-nlp-6-unique-ways-perform-tokenization/\n",
    "# comments and functions are original work, source code was modified to fit our workspace\n",
    "\n",
    "# tokenization and removal of stopwords\n",
    "\n",
    "# create an instance of all stopwords\n",
    "stop_words = set(stopwords.words('english'))\n",
    "\n",
    "# function for removing stopwords from a given input\n",
    "def remove_stopwords(text):\n",
    "    # tokenize the input string\n",
    "    tokens = word_tokenize(text)\n",
    "    # create an empty list for the new output\n",
    "    filtered_tokens = []\n",
    "    # for each word in the tokenized text\n",
    "    for word in tokens:\n",
    "        # if the word is not a stop word\n",
    "        if word not in stop_words:\n",
    "            # add the token to the new output list\n",
    "            filtered_tokens.append(word)\n",
    "\n",
    "    return filtered_tokens\n",
    "\n",
    "# function to apply the stopword removal/tokenization function to input dataframes\n",
    "def tokenize_nostop(df):\n",
    "    # iterate through the dataframe and tokenize/remove stop words for each row\n",
    "    df[\"document\"] = df[\"document\"].apply(remove_stopwords)\n",
    "    print(\"stopwords removed from document column\")\n",
    "    \n",
    "    df[\"summary\"] = df[\"summary\"].apply(remove_stopwords)\n",
    "    print(\"stopwords removed from summary column\")"
   ]
  },
  {
   "cell_type": "code",
   "execution_count": 109,
   "metadata": {},
   "outputs": [],
   "source": [
    "# inspiration and source code for NLTK's word net lemmatizer came from the following article -\n",
    "# https://www.analyticsvidhya.com/blog/2021/06/pre-processing-of-text-data-in-nlp/\n",
    "# functions and comments are our original work, source code was modified to fit our workspace\n",
    "\n",
    "# lemmatization\n",
    "\n",
    "# create an instance of NLTK's word net lemmatizer class\n",
    "wml = WordNetLemmatizer()\n",
    "\n",
    "# function to lemmatize a given tokenized text input\n",
    "def lemmatization(text):\n",
    "    # create an empty list for new output\n",
    "    lemma_words = []\n",
    "\n",
    "    # for each word in the given input\n",
    "    for word in text:\n",
    "        # lemmatize the word\n",
    "        token = wml.lemmatize(word)\n",
    "        # and add it into our new output list\n",
    "        lemma_words.append(token)\n",
    "    \n",
    "    return lemma_words\n",
    "\n",
    "# function to call lemmatization function on the rows of an input dataframe\n",
    "def lemmatize(df):\n",
    "    # iterate through the rows of the input dataframe and apply the lemmatization function to each row\n",
    "    df[\"document\"] = df[\"document\"].apply(lemmatization)\n",
    "    print(\"document column lemmatized\")\n",
    "\n",
    "    df[\"summary\"] = df[\"summary\"].apply(lemmatization)\n",
    "    print(\"summary column lemmatized\")"
   ]
  },
  {
   "cell_type": "code",
   "execution_count": 110,
   "metadata": {},
   "outputs": [],
   "source": [
    "# create data pre-processing pipeline\n",
    "\n",
    "def pre_proc(df):\n",
    "    # lowercase\n",
    "    lower(df)\n",
    "    # remove punctuation and symbols\n",
    "    remove_punctuation(df)\n",
    "    # tokenize and remove stopwords\n",
    "    tokenize_nostop(df)\n",
    "    # lemmatize\n",
    "    lemmatize(df)\n",
    "    print(\"pre-processed successfully\")"
   ]
  },
  {
   "cell_type": "code",
   "execution_count": 111,
   "metadata": {},
   "outputs": [
    {
     "name": "stdout",
     "output_type": "stream",
     "text": [
      "summary column lowercased\n",
      "document column lowercased\n"
     ]
    },
    {
     "name": "stderr",
     "output_type": "stream",
     "text": [
      "C:\\Users\\cmoor197\\AppData\\Local\\Temp\\1\\ipykernel_5280\\365639833.py:29: FutureWarning: The default value of regex will change from True to False in a future version. In addition, single character regular expressions will *not* be treated as literal strings when regex=True.\n",
      "  df[\"document\"] = df[\"document\"].str.replace(symbol, \"\")\n",
      "C:\\Users\\cmoor197\\AppData\\Local\\Temp\\1\\ipykernel_5280\\365639833.py:30: FutureWarning: The default value of regex will change from True to False in a future version. In addition, single character regular expressions will *not* be treated as literal strings when regex=True.\n",
      "  df[\"summary\"] = df[\"summary\"].str.replace(symbol, \"\")\n"
     ]
    },
    {
     "name": "stdout",
     "output_type": "stream",
     "text": [
      "symbols removed\n",
      "stopwords removed from document column\n",
      "stopwords removed from summary column\n",
      "document column lemmatized\n",
      "summary column lemmatized\n",
      "pre-processed successfully\n",
      "train df completed\n",
      "summary column lowercased\n",
      "document column lowercased\n",
      "symbols removed\n",
      "stopwords removed from document column\n",
      "stopwords removed from summary column\n",
      "document column lemmatized\n",
      "summary column lemmatized\n",
      "pre-processed successfully\n",
      "test df completed\n",
      "summary column lowercased\n",
      "document column lowercased\n",
      "symbols removed\n",
      "stopwords removed from document column\n",
      "stopwords removed from summary column\n",
      "document column lemmatized\n",
      "summary column lemmatized\n",
      "pre-processed successfully\n",
      "validation df completed\n"
     ]
    },
    {
     "data": {
      "text/html": [
       "<div>\n",
       "<style scoped>\n",
       "    .dataframe tbody tr th:only-of-type {\n",
       "        vertical-align: middle;\n",
       "    }\n",
       "\n",
       "    .dataframe tbody tr th {\n",
       "        vertical-align: top;\n",
       "    }\n",
       "\n",
       "    .dataframe thead th {\n",
       "        text-align: right;\n",
       "    }\n",
       "</style>\n",
       "<table border=\"1\" class=\"dataframe\">\n",
       "  <thead>\n",
       "    <tr style=\"text-align: right;\">\n",
       "      <th></th>\n",
       "      <th>document</th>\n",
       "      <th>summary</th>\n",
       "    </tr>\n",
       "  </thead>\n",
       "  <tbody>\n",
       "    <tr>\n",
       "      <th>0</th>\n",
       "      <td>[australia, current, account, deficit, shrunk,...</td>\n",
       "      <td>[australian, current, account, deficit, narrow...</td>\n",
       "    </tr>\n",
       "    <tr>\n",
       "      <th>1</th>\n",
       "      <td>[least, two, people, killed, suspected, bomb, ...</td>\n",
       "      <td>[least, two, dead, southern, philippine, blast]</td>\n",
       "    </tr>\n",
       "    <tr>\n",
       "      <th>2</th>\n",
       "      <td>[australian, share, closed, percent, monday, f...</td>\n",
       "      <td>[australian, stock, close, percent]</td>\n",
       "    </tr>\n",
       "    <tr>\n",
       "      <th>3</th>\n",
       "      <td>[south, korea, nuclear, envoy, kim, sook, urge...</td>\n",
       "      <td>[envoy, urge, north, korea, restart, nuclear, ...</td>\n",
       "    </tr>\n",
       "    <tr>\n",
       "      <th>4</th>\n",
       "      <td>[south, korea, monday, announced, sweeping, ta...</td>\n",
       "      <td>[skorea, announces, tax, cut, stimulate, economy]</td>\n",
       "    </tr>\n",
       "    <tr>\n",
       "      <th>5</th>\n",
       "      <td>[taiwan, share, price, closed, percent, monday...</td>\n",
       "      <td>[taiwan, share, close, percent]</td>\n",
       "    </tr>\n",
       "    <tr>\n",
       "      <th>6</th>\n",
       "      <td>[australian, share, closed, percent, monday, f...</td>\n",
       "      <td>[australian, stock, close, percent]</td>\n",
       "    </tr>\n",
       "    <tr>\n",
       "      <th>7</th>\n",
       "      <td>[spanish, property, group, colonial, strugglin...</td>\n",
       "      <td>[spain, colonial, post, billion, euro, loss]</td>\n",
       "    </tr>\n",
       "    <tr>\n",
       "      <th>8</th>\n",
       "      <td>[libyan, leader, moamer, kadhafi, monday, prom...</td>\n",
       "      <td>[kadhafi, promise, wide, political, economic, ...</td>\n",
       "    </tr>\n",
       "    <tr>\n",
       "      <th>9</th>\n",
       "      <td>[united, nation, humanitarian, chief, john, ho...</td>\n",
       "      <td>[un, top, aid, official, arrives, droughthit, ...</td>\n",
       "    </tr>\n",
       "  </tbody>\n",
       "</table>\n",
       "</div>"
      ],
      "text/plain": [
       "                                            document  \\\n",
       "0  [australia, current, account, deficit, shrunk,...   \n",
       "1  [least, two, people, killed, suspected, bomb, ...   \n",
       "2  [australian, share, closed, percent, monday, f...   \n",
       "3  [south, korea, nuclear, envoy, kim, sook, urge...   \n",
       "4  [south, korea, monday, announced, sweeping, ta...   \n",
       "5  [taiwan, share, price, closed, percent, monday...   \n",
       "6  [australian, share, closed, percent, monday, f...   \n",
       "7  [spanish, property, group, colonial, strugglin...   \n",
       "8  [libyan, leader, moamer, kadhafi, monday, prom...   \n",
       "9  [united, nation, humanitarian, chief, john, ho...   \n",
       "\n",
       "                                             summary  \n",
       "0  [australian, current, account, deficit, narrow...  \n",
       "1    [least, two, dead, southern, philippine, blast]  \n",
       "2                [australian, stock, close, percent]  \n",
       "3  [envoy, urge, north, korea, restart, nuclear, ...  \n",
       "4  [skorea, announces, tax, cut, stimulate, economy]  \n",
       "5                    [taiwan, share, close, percent]  \n",
       "6                [australian, stock, close, percent]  \n",
       "7       [spain, colonial, post, billion, euro, loss]  \n",
       "8  [kadhafi, promise, wide, political, economic, ...  \n",
       "9  [un, top, aid, official, arrives, droughthit, ...  "
      ]
     },
     "execution_count": 111,
     "metadata": {},
     "output_type": "execute_result"
    }
   ],
   "source": [
    "# call the data pre-processing pipeline for each of the dataset splits\n",
    "\n",
    "pre_proc(df_train)\n",
    "print(\"train df completed\")\n",
    "pre_proc(df_test)\n",
    "print(\"test df completed\")\n",
    "pre_proc(df_val)\n",
    "print(\"validation df completed\")\n",
    "\n",
    "# display new format of data using training set\n",
    "df_train.head(10)"
   ]
  },
  {
   "cell_type": "markdown",
   "metadata": {},
   "source": [
    "Our dataset splits are now pre-processed and ready for use with models."
   ]
  }
 ],
 "metadata": {
  "kernelspec": {
   "display_name": "Python 3",
   "language": "python",
   "name": "python3"
  },
  "language_info": {
   "codemirror_mode": {
    "name": "ipython",
    "version": 3
   },
   "file_extension": ".py",
   "mimetype": "text/x-python",
   "name": "python",
   "nbconvert_exporter": "python",
   "pygments_lexer": "ipython3",
   "version": "3.9.13"
  }
 },
 "nbformat": 4,
 "nbformat_minor": 2
}
