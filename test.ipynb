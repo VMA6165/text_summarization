{
 "cells": [
  {
   "cell_type": "markdown",
   "metadata": {},
   "source": [
    "https://github.com/huggingface/transformers/blob/main/examples/pytorch/summarization/README.md\n",
    "\n",
    "https://huggingface.co/docs/transformers/v4.35.0/en/model_doc/bart#transformers.BartForConditionalGeneration\n",
    "\n",
    "https://discuss.huggingface.co/t/train-bart-for-conditional-generation-e-g-summarization/1904"
   ]
  },
  {
   "cell_type": "markdown",
   "metadata": {},
   "source": [
    "| BART Model: | Description |\n",
    "| :----------- | :-----------: | \n",
    "| bart.base |\t            BART model with 6 encoder and decoder layers |\n",
    "| bart.large |\t            BART model with 12 encoder and decoder layers |\n",
    "| bart.large.mnli |\t        bart.large finetuned on MNLI |\n",
    "| bart.large.cnn |\t        bart.large finetuned on CNN-DM |\n",
    "| bart.large.xsum |         bart.large finetuned on Xsum |"
   ]
  },
  {
   "cell_type": "code",
   "execution_count": 55,
   "metadata": {},
   "outputs": [],
   "source": [
    "import pandas as pd\n",
    "import numpy as np"
   ]
  },
  {
   "cell_type": "code",
   "execution_count": 56,
   "metadata": {},
   "outputs": [],
   "source": [
    "df = pd.read_csv(\"./Data/BART_PRED.csv\")\n",
    "df1 = pd.read_csv(\"./Data/BART_PRED_1.csv\") "
   ]
  },
  {
   "cell_type": "code",
   "execution_count": 57,
   "metadata": {},
   "outputs": [
    {
     "data": {
      "text/plain": [
       "Index([], dtype='int64')"
      ]
     },
     "execution_count": 57,
     "metadata": {},
     "output_type": "execute_result"
    }
   ],
   "source": [
    "df[df[\"BART_Pred\"] == \"\"].index"
   ]
  },
  {
   "cell_type": "code",
   "execution_count": 58,
   "metadata": {},
   "outputs": [
    {
     "data": {
      "text/plain": [
       "Index([], dtype='int64')"
      ]
     },
     "execution_count": 58,
     "metadata": {},
     "output_type": "execute_result"
    }
   ],
   "source": [
    "df1[df1[\"BART_Pred\"] == \"\"].index"
   ]
  },
  {
   "cell_type": "code",
   "execution_count": 59,
   "metadata": {},
   "outputs": [
    {
     "data": {
      "text/plain": [
       "Index([11986, 15907, 29747, 40129, 46210], dtype='int64')"
      ]
     },
     "execution_count": 59,
     "metadata": {},
     "output_type": "execute_result"
    }
   ],
   "source": [
    "le1 = df[df[\"BART_Pred\"].isna()].index\n",
    "le1"
   ]
  },
  {
   "cell_type": "code",
   "execution_count": 60,
   "metadata": {},
   "outputs": [
    {
     "data": {
      "text/plain": [
       "Index([11986, 15907, 29747, 40129, 46210], dtype='int64')"
      ]
     },
     "execution_count": 60,
     "metadata": {},
     "output_type": "execute_result"
    }
   ],
   "source": [
    "le2 = df1[df1[\"BART_Pred\"].isna()].index\n",
    "le2"
   ]
  },
  {
   "cell_type": "code",
   "execution_count": 61,
   "metadata": {},
   "outputs": [],
   "source": [
    "def all2list(samp_li):\n",
    "    return samp_li.replace(\"\\'\", \"\").strip('][').replace(',', '').split(\" \")"
   ]
  },
  {
   "cell_type": "code",
   "execution_count": 62,
   "metadata": {},
   "outputs": [],
   "source": [
    "df[\"document\"] = df[\"document\"].map(all2list)"
   ]
  },
  {
   "cell_type": "code",
   "execution_count": 63,
   "metadata": {},
   "outputs": [],
   "source": [
    "df[\"leng\"] = df[\"document\"].apply(lambda x: len(x))"
   ]
  },
  {
   "cell_type": "code",
   "execution_count": 64,
   "metadata": {},
   "outputs": [
    {
     "data": {
      "text/plain": [
       "Index([11986, 15907, 22710, 29747, 40129, 46210], dtype='int64')"
      ]
     },
     "execution_count": 64,
     "metadata": {},
     "output_type": "execute_result"
    }
   ],
   "source": [
    "le = df[df[\"leng\"] <= 3].index\n",
    "le"
   ]
  },
  {
   "cell_type": "code",
   "execution_count": 67,
   "metadata": {},
   "outputs": [
    {
     "name": "stdout",
     "output_type": "stream",
     "text": [
      "error occured, they arent the same\n"
     ]
    }
   ],
   "source": [
    "try:\n",
    "    if le1 == le:\n",
    "        print(\"They are the same\")\n",
    "    else:\n",
    "        print(\"They are not the same\")\n",
    "except:\n",
    "    print(\"error occured, they arent the same\")"
   ]
  },
  {
   "cell_type": "code",
   "execution_count": 68,
   "metadata": {},
   "outputs": [
    {
     "data": {
      "text/html": [
       "<div>\n",
       "<style scoped>\n",
       "    .dataframe tbody tr th:only-of-type {\n",
       "        vertical-align: middle;\n",
       "    }\n",
       "\n",
       "    .dataframe tbody tr th {\n",
       "        vertical-align: top;\n",
       "    }\n",
       "\n",
       "    .dataframe thead th {\n",
       "        text-align: right;\n",
       "    }\n",
       "</style>\n",
       "<table border=\"1\" class=\"dataframe\">\n",
       "  <thead>\n",
       "    <tr style=\"text-align: right;\">\n",
       "      <th></th>\n",
       "      <th>Unnamed: 0</th>\n",
       "      <th>document</th>\n",
       "      <th>summary</th>\n",
       "      <th>docString</th>\n",
       "      <th>sumString</th>\n",
       "      <th>BART_Pred</th>\n",
       "      <th>leng</th>\n",
       "    </tr>\n",
       "  </thead>\n",
       "  <tbody>\n",
       "    <tr>\n",
       "      <th>11986</th>\n",
       "      <td>2164402</td>\n",
       "      <td>[stick, hand, pork]</td>\n",
       "      <td>['expensive', 'pork', 'south', 'china', 'attra...</td>\n",
       "      <td>stick hand pork</td>\n",
       "      <td>expensive pork south china attract robber</td>\n",
       "      <td>NaN</td>\n",
       "      <td>3</td>\n",
       "    </tr>\n",
       "    <tr>\n",
       "      <th>15907</th>\n",
       "      <td>2458749</td>\n",
       "      <td>[dying, excuse, nixon]</td>\n",
       "      <td>['nixon', 'may', 'dead', 'republican', 'still'...</td>\n",
       "      <td>dying excuse nixon</td>\n",
       "      <td>nixon may dead republican still vie blessing</td>\n",
       "      <td>NaN</td>\n",
       "      <td>3</td>\n",
       "    </tr>\n",
       "    <tr>\n",
       "      <th>29747</th>\n",
       "      <td>2769662</td>\n",
       "      <td>[handful, surprise, mr]</td>\n",
       "      <td>['bernie', 'mac', 'connects', 'mr']</td>\n",
       "      <td>handful surprise mr</td>\n",
       "      <td>bernie mac connects mr</td>\n",
       "      <td>NaN</td>\n",
       "      <td>3</td>\n",
       "    </tr>\n",
       "    <tr>\n",
       "      <th>40129</th>\n",
       "      <td>2550165</td>\n",
       "      <td>[unk, back, nothing]</td>\n",
       "      <td>['unk', 'back', 'making', 'noise']</td>\n",
       "      <td>unk back nothing</td>\n",
       "      <td>unk back making noise</td>\n",
       "      <td>NaN</td>\n",
       "      <td>3</td>\n",
       "    </tr>\n",
       "    <tr>\n",
       "      <th>46210</th>\n",
       "      <td>2606734</td>\n",
       "      <td>[enough, say, love]</td>\n",
       "      <td>['love', 'letter', 'straight', 'heart']</td>\n",
       "      <td>enough say love</td>\n",
       "      <td>love letter straight heart</td>\n",
       "      <td>NaN</td>\n",
       "      <td>3</td>\n",
       "    </tr>\n",
       "  </tbody>\n",
       "</table>\n",
       "</div>"
      ],
      "text/plain": [
       "       Unnamed: 0                 document  \\\n",
       "11986     2164402      [stick, hand, pork]   \n",
       "15907     2458749   [dying, excuse, nixon]   \n",
       "29747     2769662  [handful, surprise, mr]   \n",
       "40129     2550165     [unk, back, nothing]   \n",
       "46210     2606734      [enough, say, love]   \n",
       "\n",
       "                                                 summary            docString  \\\n",
       "11986  ['expensive', 'pork', 'south', 'china', 'attra...      stick hand pork   \n",
       "15907  ['nixon', 'may', 'dead', 'republican', 'still'...   dying excuse nixon   \n",
       "29747                ['bernie', 'mac', 'connects', 'mr']  handful surprise mr   \n",
       "40129                 ['unk', 'back', 'making', 'noise']     unk back nothing   \n",
       "46210            ['love', 'letter', 'straight', 'heart']      enough say love   \n",
       "\n",
       "                                          sumString BART_Pred  leng  \n",
       "11986     expensive pork south china attract robber       NaN     3  \n",
       "15907  nixon may dead republican still vie blessing       NaN     3  \n",
       "29747                        bernie mac connects mr       NaN     3  \n",
       "40129                         unk back making noise       NaN     3  \n",
       "46210                    love letter straight heart       NaN     3  "
      ]
     },
     "execution_count": 68,
     "metadata": {},
     "output_type": "execute_result"
    }
   ],
   "source": [
    "df[df[\"BART_Pred\"].isna()]"
   ]
  },
  {
   "cell_type": "code",
   "execution_count": 69,
   "metadata": {},
   "outputs": [
    {
     "data": {
      "text/html": [
       "<div>\n",
       "<style scoped>\n",
       "    .dataframe tbody tr th:only-of-type {\n",
       "        vertical-align: middle;\n",
       "    }\n",
       "\n",
       "    .dataframe tbody tr th {\n",
       "        vertical-align: top;\n",
       "    }\n",
       "\n",
       "    .dataframe thead th {\n",
       "        text-align: right;\n",
       "    }\n",
       "</style>\n",
       "<table border=\"1\" class=\"dataframe\">\n",
       "  <thead>\n",
       "    <tr style=\"text-align: right;\">\n",
       "      <th></th>\n",
       "      <th>Unnamed: 0</th>\n",
       "      <th>document</th>\n",
       "      <th>summary</th>\n",
       "      <th>docString</th>\n",
       "      <th>sumString</th>\n",
       "      <th>BART_Pred</th>\n",
       "      <th>leng</th>\n",
       "    </tr>\n",
       "  </thead>\n",
       "  <tbody>\n",
       "    <tr>\n",
       "      <th>11986</th>\n",
       "      <td>2164402</td>\n",
       "      <td>[stick, hand, pork]</td>\n",
       "      <td>['expensive', 'pork', 'south', 'china', 'attra...</td>\n",
       "      <td>stick hand pork</td>\n",
       "      <td>expensive pork south china attract robber</td>\n",
       "      <td>NaN</td>\n",
       "      <td>3</td>\n",
       "    </tr>\n",
       "    <tr>\n",
       "      <th>15907</th>\n",
       "      <td>2458749</td>\n",
       "      <td>[dying, excuse, nixon]</td>\n",
       "      <td>['nixon', 'may', 'dead', 'republican', 'still'...</td>\n",
       "      <td>dying excuse nixon</td>\n",
       "      <td>nixon may dead republican still vie blessing</td>\n",
       "      <td>NaN</td>\n",
       "      <td>3</td>\n",
       "    </tr>\n",
       "    <tr>\n",
       "      <th>22710</th>\n",
       "      <td>2690100</td>\n",
       "      <td>[enough, hospital, anymore]</td>\n",
       "      <td>['odyssey', 'child', 'hospital', 'lead', 'space']</td>\n",
       "      <td>enough hospital anymore</td>\n",
       "      <td>odyssey child hospital lead space</td>\n",
       "      <td>enough</td>\n",
       "      <td>3</td>\n",
       "    </tr>\n",
       "    <tr>\n",
       "      <th>29747</th>\n",
       "      <td>2769662</td>\n",
       "      <td>[handful, surprise, mr]</td>\n",
       "      <td>['bernie', 'mac', 'connects', 'mr']</td>\n",
       "      <td>handful surprise mr</td>\n",
       "      <td>bernie mac connects mr</td>\n",
       "      <td>NaN</td>\n",
       "      <td>3</td>\n",
       "    </tr>\n",
       "    <tr>\n",
       "      <th>40129</th>\n",
       "      <td>2550165</td>\n",
       "      <td>[unk, back, nothing]</td>\n",
       "      <td>['unk', 'back', 'making', 'noise']</td>\n",
       "      <td>unk back nothing</td>\n",
       "      <td>unk back making noise</td>\n",
       "      <td>NaN</td>\n",
       "      <td>3</td>\n",
       "    </tr>\n",
       "    <tr>\n",
       "      <th>46210</th>\n",
       "      <td>2606734</td>\n",
       "      <td>[enough, say, love]</td>\n",
       "      <td>['love', 'letter', 'straight', 'heart']</td>\n",
       "      <td>enough say love</td>\n",
       "      <td>love letter straight heart</td>\n",
       "      <td>NaN</td>\n",
       "      <td>3</td>\n",
       "    </tr>\n",
       "  </tbody>\n",
       "</table>\n",
       "</div>"
      ],
      "text/plain": [
       "       Unnamed: 0                     document  \\\n",
       "11986     2164402          [stick, hand, pork]   \n",
       "15907     2458749       [dying, excuse, nixon]   \n",
       "22710     2690100  [enough, hospital, anymore]   \n",
       "29747     2769662      [handful, surprise, mr]   \n",
       "40129     2550165         [unk, back, nothing]   \n",
       "46210     2606734          [enough, say, love]   \n",
       "\n",
       "                                                 summary  \\\n",
       "11986  ['expensive', 'pork', 'south', 'china', 'attra...   \n",
       "15907  ['nixon', 'may', 'dead', 'republican', 'still'...   \n",
       "22710  ['odyssey', 'child', 'hospital', 'lead', 'space']   \n",
       "29747                ['bernie', 'mac', 'connects', 'mr']   \n",
       "40129                 ['unk', 'back', 'making', 'noise']   \n",
       "46210            ['love', 'letter', 'straight', 'heart']   \n",
       "\n",
       "                     docString                                     sumString  \\\n",
       "11986          stick hand pork     expensive pork south china attract robber   \n",
       "15907       dying excuse nixon  nixon may dead republican still vie blessing   \n",
       "22710  enough hospital anymore             odyssey child hospital lead space   \n",
       "29747      handful surprise mr                        bernie mac connects mr   \n",
       "40129         unk back nothing                         unk back making noise   \n",
       "46210          enough say love                    love letter straight heart   \n",
       "\n",
       "      BART_Pred  leng  \n",
       "11986       NaN     3  \n",
       "15907       NaN     3  \n",
       "22710    enough     3  \n",
       "29747       NaN     3  \n",
       "40129       NaN     3  \n",
       "46210       NaN     3  "
      ]
     },
     "execution_count": 69,
     "metadata": {},
     "output_type": "execute_result"
    }
   ],
   "source": [
    "df[df[\"leng\"] <= 3]"
   ]
  },
  {
   "cell_type": "code",
   "execution_count": null,
   "metadata": {},
   "outputs": [],
   "source": []
  },
  {
   "cell_type": "code",
   "execution_count": null,
   "metadata": {},
   "outputs": [],
   "source": [
    "def runBart(df):\n",
    "\n",
    "    # Empty lists for predictions and performance timestamps\n",
    "    predictions = []\n",
    "    times = []\n",
    "\n",
    "    # For the number of rows in the given dataframe\n",
    "    for i in range(len(df)):\n",
    "        # Create a start timestamp\n",
    "        start = time.perf_counter()\n",
    "\n",
    "        # Create a document instance using the row's entry for the stringified document\n",
    "        doc = df.iloc[i][\"docString\"]\n",
    "\n",
    "        # Encoding inputs using BART tokenizer \n",
    "        inputs = tokenizer.encode(doc, return_tensors='pt', max_length=1024, truncation=True).to(device)\n",
    "\n",
    "        # Generate vectorized summary using encoded inputs\n",
    "        summary_ids = model.generate(inputs, max_length=150, min_length=50, length_penalty=2.0, num_beams=4, early_stopping=True)\n",
    "\n",
    "        # Decode the summary into a human-readable format\n",
    "        summary = tokenizer.decode(summary_ids[0], skip_special_tokens=True)\n",
    "\n",
    "        # Append the predicted summary to a list of predictions\n",
    "        predictions.append(summary)\n",
    "\n",
    "        # Create an end timestamp\n",
    "        end = time.perf_counter()\n",
    "\n",
    "        # Calculate computation speed\n",
    "        speed = end - start\n",
    "\n",
    "        # Append computation speed to list\n",
    "        times.append(speed)\n",
    "\n",
    "        # If the iteration is a multiple of 1000\n",
    "        if i % 1000 == 0:\n",
    "            # Calculate the average computation time per row so far and print\n",
    "            avg_time = sum(times) / len(times)\n",
    "            print(\"Average time per row at\", i, \"row:\", avg_time)\n",
    "\n",
    "    # Create a new column for the dataframe using the predictions generated and return the modified dataframe\n",
    "    df[\"BART_Pred\"] = predictions\n",
    "    return df"
   ]
  }
 ],
 "metadata": {
  "kernelspec": {
   "display_name": "base",
   "language": "python",
   "name": "python3"
  },
  "language_info": {
   "codemirror_mode": {
    "name": "ipython",
    "version": 3
   },
   "file_extension": ".py",
   "mimetype": "text/x-python",
   "name": "python",
   "nbconvert_exporter": "python",
   "pygments_lexer": "ipython3",
   "version": "3.11.5"
  }
 },
 "nbformat": 4,
 "nbformat_minor": 2
}
